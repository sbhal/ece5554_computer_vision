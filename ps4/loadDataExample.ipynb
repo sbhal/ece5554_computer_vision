{
 "cells": [
  {
   "cell_type": "code",
   "execution_count": 2,
   "metadata": {
    "collapsed": false
   },
   "outputs": [],
   "source": [
    "# This is the code for PS4 of Dr. Parikh's computer vision class. \n",
    "# the code use part of the the polygonal region selection tools from https://github.com/jdoepfert/roipoly.py\n",
    "\n",
    "# This script is to illustrate a couple of the provided functions, and to demonstrated loading a data file.\n",
    "\n",
    "import numpy as np\n",
    "import scipy.io\n",
    "import glob\n",
    "from scipy import misc\n",
    "import matplotlib.pyplot as plt\n",
    "from displaySIFTPatches import displaySIFTPatches\n",
    "from selectRegion import roipoly\n",
    "from getPatchFromSIFTParameters import getPatchFromSIFTParameters\n",
    "from skimage.color import rgb2gray\n",
    "import matplotlib.cm as cm\n",
    "import pylab as pl\n",
    "\n",
    "# specific frame dir and siftdir\n",
    "framesdir = 'C:/Users/siddh/Desktop/vision-ps4-desk/frames_small/'\n",
    "siftdir = 'C:/Users/siddh/Desktop/vision-ps4-desk/sift_small/'\n"
   ]
  },
  {
   "cell_type": "code",
   "execution_count": 3,
   "metadata": {
    "collapsed": false
   },
   "outputs": [
    {
     "name": "stdout",
     "output_type": "stream",
     "text": [
      "reading 2 total files...\n"
     ]
    }
   ],
   "source": [
    "# Get a list of all the .mat file in that directory.\n",
    "# there is one .mat file per image.\n",
    "\n",
    "fnames = glob.glob(siftdir + '*.mat')\n",
    "fnames = [i[-27:] for i in fnames]\n",
    "\n",
    "print 'reading %d total files...' %(len(fnames))\n",
    "\n",
    "N = 100 #to visualize a sparser set of the features\n"
   ]
  },
  {
   "cell_type": "code",
   "execution_count": null,
   "metadata": {
    "collapsed": false,
    "scrolled": true
   },
   "outputs": [],
   "source": [
    "# Loop through all the data files found\n",
    "for i in range(len(fnames)):\n",
    "    print 'reading frame %d of %d' %(i, len(fnames))\n",
    "    \n",
    "    # load that file\n",
    "    fname = siftdir + fnames[i]\n",
    "    \n",
    "    mat = scipy.io.loadmat(fname)\n",
    "    numfeats = mat['descriptors'].shape[0]\n",
    "    \n",
    "    #read the associated image\n",
    "    imname = framesdir + fnames[i][:-4]\n",
    "    im = misc.imread(imname)\n",
    "\n",
    "    # display the image and its SIFT features drawn as squares\n",
    "    print 'imname = %s contains %d total features, each of dimension %d' %(imname, numfeats, mat['descriptors'].shape[1]);\n",
    "    fig=plt.figure()\n",
    "    ax=fig.add_subplot(111)\n",
    "    ax.imshow(im)\n",
    "    coners = displaySIFTPatches(mat['positions'], mat['scales'], mat['orients'])\n",
    "    \n",
    "    for j in range(len(coners)):\n",
    "        ax.plot([coners[j][0][1], coners[j][1][1]], [coners[j][0][0], coners[j][1][0]], color='g', linestyle='-', linewidth=1)\n",
    "        ax.plot([coners[j][1][1], coners[j][2][1]], [coners[j][1][0], coners[j][2][0]], color='g', linestyle='-', linewidth=1)\n",
    "        ax.plot([coners[j][2][1], coners[j][3][1]], [coners[j][2][0], coners[j][3][0]], color='g', linestyle='-', linewidth=1)\n",
    "        ax.plot([coners[j][3][1], coners[j][0][1]], [coners[j][3][0], coners[j][0][0]], color='g', linestyle='-', linewidth=1)\n",
    "    ax.set_xlim(0, im.shape[1])\n",
    "    ax.set_ylim(0, im.shape[0])\n",
    "    plt.gca().invert_yaxis()\n",
    "    \n",
    "    plt.show()\n",
    "    # now display the same image but only show N of the features\n",
    "    print 'now showing a random subset of %d of those for visualization purposes only...' %(N)\n",
    "    randinds = np.random.permutation(numfeats)\n",
    "    fig=plt.figure()\n",
    "    bx=fig.add_subplot(111)\n",
    "    bx.imshow(im)\n",
    "    coners = displaySIFTPatches(mat['positions'][randinds[:N],:], mat['scales'][randinds[:N],:], mat['orients'][randinds[:N],:])\n",
    "    \n",
    "    for j in range(len(coners)):\n",
    "        bx.plot([coners[j][0][1], coners[j][1][1]], [coners[j][0][0], coners[j][1][0]], color='g', linestyle='-', linewidth=1)\n",
    "        bx.plot([coners[j][1][1], coners[j][2][1]], [coners[j][1][0], coners[j][2][0]], color='g', linestyle='-', linewidth=1)\n",
    "        bx.plot([coners[j][2][1], coners[j][3][1]], [coners[j][2][0], coners[j][3][0]], color='g', linestyle='-', linewidth=1)\n",
    "        bx.plot([coners[j][3][1], coners[j][0][1]], [coners[j][3][0], coners[j][0][0]], color='g', linestyle='-', linewidth=1)\n",
    "    bx.set_xlim(0, im.shape[1])\n",
    "    bx.set_ylim(0, im.shape[0])  \n",
    "    plt.gca().invert_yaxis()\n",
    "    plt.show()\n",
    "    \n",
    "    \n",
    "    # now show how to select a subset of the features using polygon drawing. \n",
    "    print 'nuse the mouse to draw a polygon, right click to end it'\n",
    "    pl.imshow(im)\n",
    "    MyROI = roipoly(roicolor='r')\n",
    "    Ind = MyROI.getIdx(im, mat['positions'])\n",
    "    \n",
    "    # Ind contains the indices of the SIFT features whose centers fall\n",
    "    # within the selected region of interest.\n",
    "    # Note that these indices apply to the *rows* of 'descriptors' and\n",
    "    # 'positions', as well as the entries of 'scales' and 'orients'\n",
    "    # now display the same image but only in the polygon.\n",
    "    \n",
    "    fig=plt.figure()\n",
    "    bx=fig.add_subplot(111)\n",
    "    bx.imshow(im)\n",
    "    coners = displaySIFTPatches(mat['positions'][Ind,:], mat['scales'][Ind,:], mat['orients'][Ind,:])\n",
    "\n",
    "    for j in range(len(coners)):\n",
    "        bx.plot([coners[j][0][1], coners[j][1][1]], [coners[j][0][0], coners[j][1][0]], color='g', linestyle='-', linewidth=1)\n",
    "        bx.plot([coners[j][1][1], coners[j][2][1]], [coners[j][1][0], coners[j][2][0]], color='g', linestyle='-', linewidth=1)\n",
    "        bx.plot([coners[j][2][1], coners[j][3][1]], [coners[j][2][0], coners[j][3][0]], color='g', linestyle='-', linewidth=1)\n",
    "        bx.plot([coners[j][3][1], coners[j][0][1]], [coners[j][3][0], coners[j][0][0]], color='g', linestyle='-', linewidth=1)\n",
    "    bx.set_xlim(0, im.shape[1])\n",
    "    bx.set_ylim(0, im.shape[0])  \n",
    "    plt.gca().invert_yaxis()\n",
    "    plt.show()    \n",
    "    \n",
    "    \n",
    "    # extract the image patch\n",
    "    patch_num = 1\n",
    "    img_patch = getPatchFromSIFTParameters(mat['positions'][patch_num,:], mat['scales'][patch_num], mat['orients'][patch_num], rgb2gray(im))\n",
    "    \n",
    "    plt.imshow(img_patch,  cmap = cm.Greys_r)\n",
    "    plt.show()\n",
    "    "
   ]
  },
  {
   "cell_type": "code",
   "execution_count": null,
   "metadata": {
    "collapsed": true
   },
   "outputs": [],
   "source": []
  },
  {
   "cell_type": "code",
   "execution_count": null,
   "metadata": {
    "collapsed": true
   },
   "outputs": [],
   "source": []
  }
 ],
 "metadata": {
  "kernelspec": {
   "display_name": "Python 2",
   "language": "python",
   "name": "python2"
  },
  "language_info": {
   "codemirror_mode": {
    "name": "ipython",
    "version": 2
   },
   "file_extension": ".py",
   "mimetype": "text/x-python",
   "name": "python",
   "nbconvert_exporter": "python",
   "pygments_lexer": "ipython2",
   "version": "2.7.10"
  }
 },
 "nbformat": 4,
 "nbformat_minor": 0
}
